{
 "cells": [
  {
   "cell_type": "markdown",
   "source": [
    "Call WikiData API"
   ],
   "metadata": {
    "collapsed": false
   }
  },
  {
   "cell_type": "code",
   "execution_count": 6,
   "metadata": {
    "collapsed": true
   },
   "outputs": [],
   "source": [
    "API_ENDPOINT = \"https://www.wikidata.org/w/api.php\""
   ]
  },
  {
   "cell_type": "code",
   "execution_count": 2,
   "outputs": [],
   "source": [
    "query = \"italy\""
   ],
   "metadata": {
    "collapsed": false
   }
  },
  {
   "cell_type": "markdown",
   "source": [
    "Take params from https://www.wikidata.org/w/api.php"
   ],
   "metadata": {
    "collapsed": false
   }
  },
  {
   "cell_type": "code",
   "execution_count": 3,
   "outputs": [],
   "source": [
    "params = {\n",
    "    'action': 'wbsearchentities',\n",
    "    'format': 'json',\n",
    "    'language': 'en',\n",
    "    'search': query\n",
    "}"
   ],
   "metadata": {
    "collapsed": false
   }
  },
  {
   "cell_type": "code",
   "execution_count": 10,
   "outputs": [],
   "source": [
    "import requests"
   ],
   "metadata": {
    "collapsed": false
   }
  },
  {
   "cell_type": "code",
   "execution_count": 11,
   "outputs": [],
   "source": [
    "r = requests.get(API_ENDPOINT, params = params)"
   ],
   "metadata": {
    "collapsed": false
   }
  },
  {
   "cell_type": "code",
   "execution_count": 12,
   "outputs": [
    {
     "data": {
      "text/plain": "{'searchinfo': {'search': 'italy'},\n 'search': [{'id': 'Q38',\n   'title': 'Q38',\n   'pageid': 152,\n   'display': {'label': {'value': 'Italy', 'language': 'en'},\n    'description': {'value': 'country in Southern Europe', 'language': 'en'}},\n   'repository': 'wikidata',\n   'url': '//www.wikidata.org/wiki/Q38',\n   'concepturi': 'http://www.wikidata.org/entity/Q38',\n   'label': 'Italy',\n   'description': 'country in Southern Europe',\n   'match': {'type': 'label', 'language': 'en', 'text': 'Italy'}},\n  {'id': 'Q172579',\n   'title': 'Q172579',\n   'pageid': 172673,\n   'display': {'label': {'value': 'Kingdom of Italy', 'language': 'en'},\n    'description': {'value': 'kingdom in Southern Europe from 1861 to 1946',\n     'language': 'en'}},\n   'repository': 'wikidata',\n   'url': '//www.wikidata.org/wiki/Q172579',\n   'concepturi': 'http://www.wikidata.org/entity/Q172579',\n   'label': 'Kingdom of Italy',\n   'description': 'kingdom in Southern Europe from 1861 to 1946',\n   'match': {'type': 'alias', 'language': 'en', 'text': 'Italy'},\n   'aliases': ['Italy']},\n  {'id': 'Q223936',\n   'title': 'Q223936',\n   'pageid': 218617,\n   'display': {'label': {'value': 'Kingdom of Italy', 'language': 'en'},\n    'description': {'value': 'kingdom in southern Europe between 1805 and 1814',\n     'language': 'en'}},\n   'repository': 'wikidata',\n   'url': '//www.wikidata.org/wiki/Q223936',\n   'concepturi': 'http://www.wikidata.org/entity/Q223936',\n   'label': 'Kingdom of Italy',\n   'description': 'kingdom in southern Europe between 1805 and 1814',\n   'match': {'type': 'alias', 'language': 'en', 'text': 'Italy'},\n   'aliases': ['Italy']},\n  {'id': 'Q145694',\n   'title': 'Q145694',\n   'pageid': 147301,\n   'display': {'label': {'value': 'península Itálica', 'language': 'en'},\n    'description': {'value': 'peninsula of southern Europe',\n     'language': 'en'}},\n   'repository': 'wikidata',\n   'url': '//www.wikidata.org/wiki/Q145694',\n   'concepturi': 'http://www.wikidata.org/entity/Q145694',\n   'label': 'península Itálica',\n   'description': 'peninsula of southern Europe',\n   'match': {'type': 'alias', 'language': 'en', 'text': 'Italy'},\n   'aliases': ['Italy']},\n  {'id': 'Q838931',\n   'title': 'Q838931',\n   'pageid': 791259,\n   'display': {'label': {'value': 'Kingdom of Italy', 'language': 'en'},\n    'description': {'value': '(817-1014) constituent kingdom of the Holy Roman Empire',\n     'language': 'en'}},\n   'repository': 'wikidata',\n   'url': '//www.wikidata.org/wiki/Q838931',\n   'concepturi': 'http://www.wikidata.org/entity/Q838931',\n   'label': 'Kingdom of Italy',\n   'description': '(817-1014) constituent kingdom of the Holy Roman Empire',\n   'match': {'type': 'alias', 'language': 'en', 'text': 'Italy'},\n   'aliases': ['Italy']},\n  {'id': 'Q48742118',\n   'title': 'Q48742118',\n   'pageid': 49763664,\n   'display': {'label': {'value': 'Kingdom of Italy under Fascism',\n     'language': 'en'},\n    'description': {'value': 'Kingdom of Italy under Fascist rule (31st October 1922 - 25th July 1943)',\n     'language': 'en'}},\n   'repository': 'wikidata',\n   'url': '//www.wikidata.org/wiki/Q48742118',\n   'concepturi': 'http://www.wikidata.org/entity/Q48742118',\n   'label': 'Kingdom of Italy under Fascism',\n   'description': 'Kingdom of Italy under Fascist rule (31st October 1922 - 25th July 1943)',\n   'match': {'type': 'alias', 'language': 'en', 'text': 'Italy'},\n   'aliases': ['Italy']},\n  {'id': 'Q977238',\n   'title': 'Q977238',\n   'pageid': 926919,\n   'display': {'label': {'value': 'Italy', 'language': 'en'},\n    'description': {'value': 'town in Texas', 'language': 'en'}},\n   'repository': 'wikidata',\n   'url': '//www.wikidata.org/wiki/Q977238',\n   'concepturi': 'http://www.wikidata.org/entity/Q977238',\n   'label': 'Italy',\n   'description': 'town in Texas',\n   'match': {'type': 'label', 'language': 'en', 'text': 'Italy'}}],\n 'search-continue': 7,\n 'success': 1}"
     },
     "execution_count": 12,
     "metadata": {},
     "output_type": "execute_result"
    }
   ],
   "source": [
    "r.json()"
   ],
   "metadata": {
    "collapsed": false
   }
  },
  {
   "cell_type": "code",
   "execution_count": 13,
   "outputs": [
    {
     "data": {
      "text/plain": "'country in Southern Europe'"
     },
     "execution_count": 13,
     "metadata": {},
     "output_type": "execute_result"
    }
   ],
   "source": [
    "r.json()['search'][0]['description']"
   ],
   "metadata": {
    "collapsed": false
   }
  },
  {
   "cell_type": "code",
   "execution_count": 16,
   "outputs": [
    {
     "data": {
      "text/plain": "'word used by Donald Trump on Twitter, probably resulting from a typo'"
     },
     "execution_count": 16,
     "metadata": {},
     "output_type": "execute_result"
    }
   ],
   "source": [
    "query = \"covfefe\"\n",
    "params = {\n",
    "    'action': 'wbsearchentities',\n",
    "    'format': 'json',\n",
    "    'language': 'en',\n",
    "    'search': query\n",
    "}\n",
    "r = requests.get(API_ENDPOINT, params = params)\n",
    "r.json()['search'][0]['description']"
   ],
   "metadata": {
    "collapsed": false
   }
  },
  {
   "cell_type": "code",
   "execution_count": null,
   "outputs": [],
   "source": [],
   "metadata": {
    "collapsed": false
   }
  }
 ],
 "metadata": {
  "kernelspec": {
   "display_name": "Python 3",
   "language": "python",
   "name": "python3"
  },
  "language_info": {
   "codemirror_mode": {
    "name": "ipython",
    "version": 2
   },
   "file_extension": ".py",
   "mimetype": "text/x-python",
   "name": "python",
   "nbconvert_exporter": "python",
   "pygments_lexer": "ipython2",
   "version": "2.7.6"
  }
 },
 "nbformat": 4,
 "nbformat_minor": 0
}
